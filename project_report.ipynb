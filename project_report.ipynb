{
 "cells": [
  {
   "cell_type": "markdown",
   "metadata": {},
   "source": [
    "# Predicting Healthy Life Expectancy with GDP per Capita Using KNN Regression"
   ]
  },
  {
   "cell_type": "markdown",
   "metadata": {},
   "source": [
    "### Introduction"
   ]
  },
  {
   "cell_type": "markdown",
   "metadata": {},
   "source": []
  },
  {
   "cell_type": "code",
   "execution_count": 1,
   "metadata": {},
   "outputs": [
    {
     "name": "stderr",
     "output_type": "stream",
     "text": [
      "── \u001b[1mAttaching packages\u001b[22m ─────────────────────────────────────── tidyverse 1.3.0 ──\n",
      "\n",
      "\u001b[32m✔\u001b[39m \u001b[34mggplot2\u001b[39m 3.3.2     \u001b[32m✔\u001b[39m \u001b[34mpurrr  \u001b[39m 0.3.4\n",
      "\u001b[32m✔\u001b[39m \u001b[34mtibble \u001b[39m 3.0.3     \u001b[32m✔\u001b[39m \u001b[34mdplyr  \u001b[39m 1.0.2\n",
      "\u001b[32m✔\u001b[39m \u001b[34mtidyr  \u001b[39m 1.1.2     \u001b[32m✔\u001b[39m \u001b[34mstringr\u001b[39m 1.4.0\n",
      "\u001b[32m✔\u001b[39m \u001b[34mreadr  \u001b[39m 1.3.1     \u001b[32m✔\u001b[39m \u001b[34mforcats\u001b[39m 0.5.0\n",
      "\n",
      "Warning message:\n",
      "“package ‘ggplot2’ was built under R version 4.0.1”\n",
      "Warning message:\n",
      "“package ‘tibble’ was built under R version 4.0.2”\n",
      "Warning message:\n",
      "“package ‘tidyr’ was built under R version 4.0.2”\n",
      "Warning message:\n",
      "“package ‘dplyr’ was built under R version 4.0.2”\n",
      "── \u001b[1mConflicts\u001b[22m ────────────────────────────────────────── tidyverse_conflicts() ──\n",
      "\u001b[31m✖\u001b[39m \u001b[34mdplyr\u001b[39m::\u001b[32mfilter()\u001b[39m masks \u001b[34mstats\u001b[39m::filter()\n",
      "\u001b[31m✖\u001b[39m \u001b[34mdplyr\u001b[39m::\u001b[32mlag()\u001b[39m    masks \u001b[34mstats\u001b[39m::lag()\n",
      "\n",
      "\n",
      "Attaching package: ‘testthat’\n",
      "\n",
      "\n",
      "The following object is masked from ‘package:dplyr’:\n",
      "\n",
      "    matches\n",
      "\n",
      "\n",
      "The following object is masked from ‘package:purrr’:\n",
      "\n",
      "    is_null\n",
      "\n",
      "\n",
      "The following object is masked from ‘package:tidyr’:\n",
      "\n",
      "    matches\n",
      "\n",
      "\n",
      "Warning message:\n",
      "“package ‘tidymodels’ was built under R version 4.0.2”\n",
      "── \u001b[1mAttaching packages\u001b[22m ────────────────────────────────────── tidymodels 0.1.1 ──\n",
      "\n",
      "\u001b[32m✔\u001b[39m \u001b[34mbroom    \u001b[39m 0.7.0      \u001b[32m✔\u001b[39m \u001b[34mrecipes  \u001b[39m 0.1.13\n",
      "\u001b[32m✔\u001b[39m \u001b[34mdials    \u001b[39m 0.0.9      \u001b[32m✔\u001b[39m \u001b[34mrsample  \u001b[39m 0.0.7 \n",
      "\u001b[32m✔\u001b[39m \u001b[34minfer    \u001b[39m 0.5.4      \u001b[32m✔\u001b[39m \u001b[34mtune     \u001b[39m 0.1.1 \n",
      "\u001b[32m✔\u001b[39m \u001b[34mmodeldata\u001b[39m 0.0.2      \u001b[32m✔\u001b[39m \u001b[34mworkflows\u001b[39m 0.2.0 \n",
      "\u001b[32m✔\u001b[39m \u001b[34mparsnip  \u001b[39m 0.1.3      \u001b[32m✔\u001b[39m \u001b[34myardstick\u001b[39m 0.0.7 \n",
      "\n",
      "Warning message:\n",
      "“package ‘broom’ was built under R version 4.0.2”\n",
      "Warning message:\n",
      "“package ‘dials’ was built under R version 4.0.2”\n",
      "Warning message:\n",
      "“package ‘infer’ was built under R version 4.0.3”\n",
      "Warning message:\n",
      "“package ‘modeldata’ was built under R version 4.0.1”\n",
      "Warning message:\n",
      "“package ‘parsnip’ was built under R version 4.0.2”\n",
      "Warning message:\n",
      "“package ‘recipes’ was built under R version 4.0.1”\n",
      "Warning message:\n",
      "“package ‘tune’ was built under R version 4.0.2”\n",
      "Warning message:\n",
      "“package ‘workflows’ was built under R version 4.0.2”\n",
      "Warning message:\n",
      "“package ‘yardstick’ was built under R version 4.0.2”\n",
      "── \u001b[1mConflicts\u001b[22m ───────────────────────────────────────── tidymodels_conflicts() ──\n",
      "\u001b[31m✖\u001b[39m \u001b[34mscales\u001b[39m::\u001b[32mdiscard()\u001b[39m   masks \u001b[34mpurrr\u001b[39m::discard()\n",
      "\u001b[31m✖\u001b[39m \u001b[34mdplyr\u001b[39m::\u001b[32mfilter()\u001b[39m     masks \u001b[34mstats\u001b[39m::filter()\n",
      "\u001b[31m✖\u001b[39m \u001b[34mrecipes\u001b[39m::\u001b[32mfixed()\u001b[39m    masks \u001b[34mstringr\u001b[39m::fixed()\n",
      "\u001b[31m✖\u001b[39m \u001b[34mtestthat\u001b[39m::\u001b[32mis_null()\u001b[39m masks \u001b[34mpurrr\u001b[39m::is_null()\n",
      "\u001b[31m✖\u001b[39m \u001b[34mdplyr\u001b[39m::\u001b[32mlag()\u001b[39m        masks \u001b[34mstats\u001b[39m::lag()\n",
      "\u001b[31m✖\u001b[39m \u001b[34mtestthat\u001b[39m::\u001b[32mmatches()\u001b[39m masks \u001b[34mdplyr\u001b[39m::matches(), \u001b[34mtidyr\u001b[39m::matches()\n",
      "\u001b[31m✖\u001b[39m \u001b[34myardstick\u001b[39m::\u001b[32mspec()\u001b[39m   masks \u001b[34mreadr\u001b[39m::spec()\n",
      "\u001b[31m✖\u001b[39m \u001b[34mrecipes\u001b[39m::\u001b[32mstep()\u001b[39m     masks \u001b[34mstats\u001b[39m::step()\n",
      "\n"
     ]
    }
   ],
   "source": [
    "library(tidyverse)\n",
    "library(testthat)\n",
    "library(digest)\n",
    "library(repr)\n",
    "library(tidymodels)\n",
    "options(repr.matrix.max.rows = 6)"
   ]
  },
  {
   "cell_type": "markdown",
   "metadata": {},
   "source": [
    " To get started, we first load the `world_happiness.csv` file located in the `data/` folder. The data is from Kaggle. We assign it to an object called `happiness`."
   ]
  },
  {
   "cell_type": "code",
   "execution_count": 2,
   "metadata": {},
   "outputs": [
    {
     "name": "stderr",
     "output_type": "stream",
     "text": [
      "Parsed with column specification:\n",
      "cols(\n",
      "  `Overall rank` = \u001b[32mcol_double()\u001b[39m,\n",
      "  `Country or region` = \u001b[31mcol_character()\u001b[39m,\n",
      "  Score = \u001b[32mcol_double()\u001b[39m,\n",
      "  `GDP per capita` = \u001b[32mcol_double()\u001b[39m,\n",
      "  `Social support` = \u001b[32mcol_double()\u001b[39m,\n",
      "  `Healthy life expectancy` = \u001b[32mcol_double()\u001b[39m,\n",
      "  `Freedom to make life choices` = \u001b[32mcol_double()\u001b[39m,\n",
      "  Generosity = \u001b[32mcol_double()\u001b[39m,\n",
      "  `Perceptions of corruption` = \u001b[32mcol_double()\u001b[39m\n",
      ")\n",
      "\n"
     ]
    },
    {
     "data": {
      "text/html": [
       "<table>\n",
       "<caption>A spec_tbl_df: 156 × 9</caption>\n",
       "<thead>\n",
       "\t<tr><th scope=col>Overall rank</th><th scope=col>Country or region</th><th scope=col>Score</th><th scope=col>GDP per capita</th><th scope=col>Social support</th><th scope=col>Healthy life expectancy</th><th scope=col>Freedom to make life choices</th><th scope=col>Generosity</th><th scope=col>Perceptions of corruption</th></tr>\n",
       "\t<tr><th scope=col>&lt;dbl&gt;</th><th scope=col>&lt;chr&gt;</th><th scope=col>&lt;dbl&gt;</th><th scope=col>&lt;dbl&gt;</th><th scope=col>&lt;dbl&gt;</th><th scope=col>&lt;dbl&gt;</th><th scope=col>&lt;dbl&gt;</th><th scope=col>&lt;dbl&gt;</th><th scope=col>&lt;dbl&gt;</th></tr>\n",
       "</thead>\n",
       "<tbody>\n",
       "\t<tr><td>1</td><td>Finland</td><td>7.769</td><td>1.340</td><td>1.587</td><td>0.986</td><td>0.596</td><td>0.153</td><td>0.393</td></tr>\n",
       "\t<tr><td>2</td><td>Denmark</td><td>7.600</td><td>1.383</td><td>1.573</td><td>0.996</td><td>0.592</td><td>0.252</td><td>0.410</td></tr>\n",
       "\t<tr><td>3</td><td>Norway </td><td>7.554</td><td>1.488</td><td>1.582</td><td>1.028</td><td>0.603</td><td>0.271</td><td>0.341</td></tr>\n",
       "\t<tr><td>⋮</td><td>⋮</td><td>⋮</td><td>⋮</td><td>⋮</td><td>⋮</td><td>⋮</td><td>⋮</td><td>⋮</td></tr>\n",
       "\t<tr><td>154</td><td>Afghanistan             </td><td>3.203</td><td>0.350</td><td>0.517</td><td>0.361</td><td>0.000</td><td>0.158</td><td>0.025</td></tr>\n",
       "\t<tr><td>155</td><td>Central African Republic</td><td>3.083</td><td>0.026</td><td>0.000</td><td>0.105</td><td>0.225</td><td>0.235</td><td>0.035</td></tr>\n",
       "\t<tr><td>156</td><td>South Sudan             </td><td>2.853</td><td>0.306</td><td>0.575</td><td>0.295</td><td>0.010</td><td>0.202</td><td>0.091</td></tr>\n",
       "</tbody>\n",
       "</table>\n"
      ],
      "text/latex": [
       "A spec\\_tbl\\_df: 156 × 9\n",
       "\\begin{tabular}{lllllllll}\n",
       " Overall rank & Country or region & Score & GDP per capita & Social support & Healthy life expectancy & Freedom to make life choices & Generosity & Perceptions of corruption\\\\\n",
       " <dbl> & <chr> & <dbl> & <dbl> & <dbl> & <dbl> & <dbl> & <dbl> & <dbl>\\\\\n",
       "\\hline\n",
       "\t 1 & Finland & 7.769 & 1.340 & 1.587 & 0.986 & 0.596 & 0.153 & 0.393\\\\\n",
       "\t 2 & Denmark & 7.600 & 1.383 & 1.573 & 0.996 & 0.592 & 0.252 & 0.410\\\\\n",
       "\t 3 & Norway  & 7.554 & 1.488 & 1.582 & 1.028 & 0.603 & 0.271 & 0.341\\\\\n",
       "\t ⋮ & ⋮ & ⋮ & ⋮ & ⋮ & ⋮ & ⋮ & ⋮ & ⋮\\\\\n",
       "\t 154 & Afghanistan              & 3.203 & 0.350 & 0.517 & 0.361 & 0.000 & 0.158 & 0.025\\\\\n",
       "\t 155 & Central African Republic & 3.083 & 0.026 & 0.000 & 0.105 & 0.225 & 0.235 & 0.035\\\\\n",
       "\t 156 & South Sudan              & 2.853 & 0.306 & 0.575 & 0.295 & 0.010 & 0.202 & 0.091\\\\\n",
       "\\end{tabular}\n"
      ],
      "text/markdown": [
       "\n",
       "A spec_tbl_df: 156 × 9\n",
       "\n",
       "| Overall rank &lt;dbl&gt; | Country or region &lt;chr&gt; | Score &lt;dbl&gt; | GDP per capita &lt;dbl&gt; | Social support &lt;dbl&gt; | Healthy life expectancy &lt;dbl&gt; | Freedom to make life choices &lt;dbl&gt; | Generosity &lt;dbl&gt; | Perceptions of corruption &lt;dbl&gt; |\n",
       "|---|---|---|---|---|---|---|---|---|\n",
       "| 1 | Finland | 7.769 | 1.340 | 1.587 | 0.986 | 0.596 | 0.153 | 0.393 |\n",
       "| 2 | Denmark | 7.600 | 1.383 | 1.573 | 0.996 | 0.592 | 0.252 | 0.410 |\n",
       "| 3 | Norway  | 7.554 | 1.488 | 1.582 | 1.028 | 0.603 | 0.271 | 0.341 |\n",
       "| ⋮ | ⋮ | ⋮ | ⋮ | ⋮ | ⋮ | ⋮ | ⋮ | ⋮ |\n",
       "| 154 | Afghanistan              | 3.203 | 0.350 | 0.517 | 0.361 | 0.000 | 0.158 | 0.025 |\n",
       "| 155 | Central African Republic | 3.083 | 0.026 | 0.000 | 0.105 | 0.225 | 0.235 | 0.035 |\n",
       "| 156 | South Sudan              | 2.853 | 0.306 | 0.575 | 0.295 | 0.010 | 0.202 | 0.091 |\n",
       "\n"
      ],
      "text/plain": [
       "    Overall rank Country or region        Score GDP per capita Social support\n",
       "1   1            Finland                  7.769 1.340          1.587         \n",
       "2   2            Denmark                  7.600 1.383          1.573         \n",
       "3   3            Norway                   7.554 1.488          1.582         \n",
       "⋮   ⋮            ⋮                        ⋮     ⋮              ⋮             \n",
       "154 154          Afghanistan              3.203 0.350          0.517         \n",
       "155 155          Central African Republic 3.083 0.026          0.000         \n",
       "156 156          South Sudan              2.853 0.306          0.575         \n",
       "    Healthy life expectancy Freedom to make life choices Generosity\n",
       "1   0.986                   0.596                        0.153     \n",
       "2   0.996                   0.592                        0.252     \n",
       "3   1.028                   0.603                        0.271     \n",
       "⋮   ⋮                       ⋮                            ⋮         \n",
       "154 0.361                   0.000                        0.158     \n",
       "155 0.105                   0.225                        0.235     \n",
       "156 0.295                   0.010                        0.202     \n",
       "    Perceptions of corruption\n",
       "1   0.393                    \n",
       "2   0.410                    \n",
       "3   0.341                    \n",
       "⋮   ⋮                        \n",
       "154 0.025                    \n",
       "155 0.035                    \n",
       "156 0.091                    "
      ]
     },
     "metadata": {},
     "output_type": "display_data"
    }
   ],
   "source": [
    "happiness <- read_csv(\"data/world_happiness.csv\")\n",
    "happiness"
   ]
  },
  {
   "cell_type": "markdown",
   "metadata": {},
   "source": [
    "## CAPTION + TABLE NUMBER!!!"
   ]
  },
  {
   "cell_type": "markdown",
   "metadata": {},
   "source": [
    "Since the column names contain spaces, it will be difficult to use the tidyverse functions. We use the `make.names` function which will replace all the spaces with a `.` so we don't have this problem; we will be able to use the tidyverse functions more easily. The `colnames` function is needed to access the data frame's column names."
   ]
  },
  {
   "cell_type": "code",
   "execution_count": 3,
   "metadata": {},
   "outputs": [
    {
     "data": {
      "text/html": [
       "<table>\n",
       "<caption>A spec_tbl_df: 156 × 9</caption>\n",
       "<thead>\n",
       "\t<tr><th scope=col>Overall.rank</th><th scope=col>Country.or.region</th><th scope=col>Score</th><th scope=col>GDP.per.capita</th><th scope=col>Social.support</th><th scope=col>Healthy.life.expectancy</th><th scope=col>Freedom.to.make.life.choices</th><th scope=col>Generosity</th><th scope=col>Perceptions.of.corruption</th></tr>\n",
       "\t<tr><th scope=col>&lt;dbl&gt;</th><th scope=col>&lt;chr&gt;</th><th scope=col>&lt;dbl&gt;</th><th scope=col>&lt;dbl&gt;</th><th scope=col>&lt;dbl&gt;</th><th scope=col>&lt;dbl&gt;</th><th scope=col>&lt;dbl&gt;</th><th scope=col>&lt;dbl&gt;</th><th scope=col>&lt;dbl&gt;</th></tr>\n",
       "</thead>\n",
       "<tbody>\n",
       "\t<tr><td>1</td><td>Finland</td><td>7.769</td><td>1.340</td><td>1.587</td><td>0.986</td><td>0.596</td><td>0.153</td><td>0.393</td></tr>\n",
       "\t<tr><td>2</td><td>Denmark</td><td>7.600</td><td>1.383</td><td>1.573</td><td>0.996</td><td>0.592</td><td>0.252</td><td>0.410</td></tr>\n",
       "\t<tr><td>3</td><td>Norway </td><td>7.554</td><td>1.488</td><td>1.582</td><td>1.028</td><td>0.603</td><td>0.271</td><td>0.341</td></tr>\n",
       "\t<tr><td>⋮</td><td>⋮</td><td>⋮</td><td>⋮</td><td>⋮</td><td>⋮</td><td>⋮</td><td>⋮</td><td>⋮</td></tr>\n",
       "\t<tr><td>154</td><td>Afghanistan             </td><td>3.203</td><td>0.350</td><td>0.517</td><td>0.361</td><td>0.000</td><td>0.158</td><td>0.025</td></tr>\n",
       "\t<tr><td>155</td><td>Central African Republic</td><td>3.083</td><td>0.026</td><td>0.000</td><td>0.105</td><td>0.225</td><td>0.235</td><td>0.035</td></tr>\n",
       "\t<tr><td>156</td><td>South Sudan             </td><td>2.853</td><td>0.306</td><td>0.575</td><td>0.295</td><td>0.010</td><td>0.202</td><td>0.091</td></tr>\n",
       "</tbody>\n",
       "</table>\n"
      ],
      "text/latex": [
       "A spec\\_tbl\\_df: 156 × 9\n",
       "\\begin{tabular}{lllllllll}\n",
       " Overall.rank & Country.or.region & Score & GDP.per.capita & Social.support & Healthy.life.expectancy & Freedom.to.make.life.choices & Generosity & Perceptions.of.corruption\\\\\n",
       " <dbl> & <chr> & <dbl> & <dbl> & <dbl> & <dbl> & <dbl> & <dbl> & <dbl>\\\\\n",
       "\\hline\n",
       "\t 1 & Finland & 7.769 & 1.340 & 1.587 & 0.986 & 0.596 & 0.153 & 0.393\\\\\n",
       "\t 2 & Denmark & 7.600 & 1.383 & 1.573 & 0.996 & 0.592 & 0.252 & 0.410\\\\\n",
       "\t 3 & Norway  & 7.554 & 1.488 & 1.582 & 1.028 & 0.603 & 0.271 & 0.341\\\\\n",
       "\t ⋮ & ⋮ & ⋮ & ⋮ & ⋮ & ⋮ & ⋮ & ⋮ & ⋮\\\\\n",
       "\t 154 & Afghanistan              & 3.203 & 0.350 & 0.517 & 0.361 & 0.000 & 0.158 & 0.025\\\\\n",
       "\t 155 & Central African Republic & 3.083 & 0.026 & 0.000 & 0.105 & 0.225 & 0.235 & 0.035\\\\\n",
       "\t 156 & South Sudan              & 2.853 & 0.306 & 0.575 & 0.295 & 0.010 & 0.202 & 0.091\\\\\n",
       "\\end{tabular}\n"
      ],
      "text/markdown": [
       "\n",
       "A spec_tbl_df: 156 × 9\n",
       "\n",
       "| Overall.rank &lt;dbl&gt; | Country.or.region &lt;chr&gt; | Score &lt;dbl&gt; | GDP.per.capita &lt;dbl&gt; | Social.support &lt;dbl&gt; | Healthy.life.expectancy &lt;dbl&gt; | Freedom.to.make.life.choices &lt;dbl&gt; | Generosity &lt;dbl&gt; | Perceptions.of.corruption &lt;dbl&gt; |\n",
       "|---|---|---|---|---|---|---|---|---|\n",
       "| 1 | Finland | 7.769 | 1.340 | 1.587 | 0.986 | 0.596 | 0.153 | 0.393 |\n",
       "| 2 | Denmark | 7.600 | 1.383 | 1.573 | 0.996 | 0.592 | 0.252 | 0.410 |\n",
       "| 3 | Norway  | 7.554 | 1.488 | 1.582 | 1.028 | 0.603 | 0.271 | 0.341 |\n",
       "| ⋮ | ⋮ | ⋮ | ⋮ | ⋮ | ⋮ | ⋮ | ⋮ | ⋮ |\n",
       "| 154 | Afghanistan              | 3.203 | 0.350 | 0.517 | 0.361 | 0.000 | 0.158 | 0.025 |\n",
       "| 155 | Central African Republic | 3.083 | 0.026 | 0.000 | 0.105 | 0.225 | 0.235 | 0.035 |\n",
       "| 156 | South Sudan              | 2.853 | 0.306 | 0.575 | 0.295 | 0.010 | 0.202 | 0.091 |\n",
       "\n"
      ],
      "text/plain": [
       "    Overall.rank Country.or.region        Score GDP.per.capita Social.support\n",
       "1   1            Finland                  7.769 1.340          1.587         \n",
       "2   2            Denmark                  7.600 1.383          1.573         \n",
       "3   3            Norway                   7.554 1.488          1.582         \n",
       "⋮   ⋮            ⋮                        ⋮     ⋮              ⋮             \n",
       "154 154          Afghanistan              3.203 0.350          0.517         \n",
       "155 155          Central African Republic 3.083 0.026          0.000         \n",
       "156 156          South Sudan              2.853 0.306          0.575         \n",
       "    Healthy.life.expectancy Freedom.to.make.life.choices Generosity\n",
       "1   0.986                   0.596                        0.153     \n",
       "2   0.996                   0.592                        0.252     \n",
       "3   1.028                   0.603                        0.271     \n",
       "⋮   ⋮                       ⋮                            ⋮         \n",
       "154 0.361                   0.000                        0.158     \n",
       "155 0.105                   0.225                        0.235     \n",
       "156 0.295                   0.010                        0.202     \n",
       "    Perceptions.of.corruption\n",
       "1   0.393                    \n",
       "2   0.410                    \n",
       "3   0.341                    \n",
       "⋮   ⋮                        \n",
       "154 0.025                    \n",
       "155 0.035                    \n",
       "156 0.091                    "
      ]
     },
     "metadata": {},
     "output_type": "display_data"
    }
   ],
   "source": [
    "colnames(happiness) <- make.names(colnames(happiness))\n",
    "happiness"
   ]
  },
  {
   "cell_type": "markdown",
   "metadata": {},
   "source": [
    "## CAPTION + TABLE NUMBER!!!"
   ]
  },
  {
   "cell_type": "markdown",
   "metadata": {},
   "source": [
    "Since we are interested in predicting the healthy life expectancy given GDP per capita, we can select the columns `GDP.per.capita` and `Healthy.life.expectancy` in order to clean up our data so that it contains the relevant columns only."
   ]
  },
  {
   "cell_type": "code",
   "execution_count": 4,
   "metadata": {},
   "outputs": [
    {
     "data": {
      "text/html": [
       "<table>\n",
       "<caption>A tibble: 156 × 2</caption>\n",
       "<thead>\n",
       "\t<tr><th scope=col>GDP.per.capita</th><th scope=col>Healthy.life.expectancy</th></tr>\n",
       "\t<tr><th scope=col>&lt;dbl&gt;</th><th scope=col>&lt;dbl&gt;</th></tr>\n",
       "</thead>\n",
       "<tbody>\n",
       "\t<tr><td>1.340</td><td>0.986</td></tr>\n",
       "\t<tr><td>1.383</td><td>0.996</td></tr>\n",
       "\t<tr><td>1.488</td><td>1.028</td></tr>\n",
       "\t<tr><td>⋮</td><td>⋮</td></tr>\n",
       "\t<tr><td>0.350</td><td>0.361</td></tr>\n",
       "\t<tr><td>0.026</td><td>0.105</td></tr>\n",
       "\t<tr><td>0.306</td><td>0.295</td></tr>\n",
       "</tbody>\n",
       "</table>\n"
      ],
      "text/latex": [
       "A tibble: 156 × 2\n",
       "\\begin{tabular}{ll}\n",
       " GDP.per.capita & Healthy.life.expectancy\\\\\n",
       " <dbl> & <dbl>\\\\\n",
       "\\hline\n",
       "\t 1.340 & 0.986\\\\\n",
       "\t 1.383 & 0.996\\\\\n",
       "\t 1.488 & 1.028\\\\\n",
       "\t ⋮ & ⋮\\\\\n",
       "\t 0.350 & 0.361\\\\\n",
       "\t 0.026 & 0.105\\\\\n",
       "\t 0.306 & 0.295\\\\\n",
       "\\end{tabular}\n"
      ],
      "text/markdown": [
       "\n",
       "A tibble: 156 × 2\n",
       "\n",
       "| GDP.per.capita &lt;dbl&gt; | Healthy.life.expectancy &lt;dbl&gt; |\n",
       "|---|---|\n",
       "| 1.340 | 0.986 |\n",
       "| 1.383 | 0.996 |\n",
       "| 1.488 | 1.028 |\n",
       "| ⋮ | ⋮ |\n",
       "| 0.350 | 0.361 |\n",
       "| 0.026 | 0.105 |\n",
       "| 0.306 | 0.295 |\n",
       "\n"
      ],
      "text/plain": [
       "    GDP.per.capita Healthy.life.expectancy\n",
       "1   1.340          0.986                  \n",
       "2   1.383          0.996                  \n",
       "3   1.488          1.028                  \n",
       "⋮   ⋮              ⋮                      \n",
       "154 0.350          0.361                  \n",
       "155 0.026          0.105                  \n",
       "156 0.306          0.295                  "
      ]
     },
     "metadata": {},
     "output_type": "display_data"
    }
   ],
   "source": [
    "clean_happiness <- happiness %>%\n",
    "    select(GDP.per.capita, Healthy.life.expectancy)\n",
    "clean_happiness"
   ]
  },
  {
   "cell_type": "markdown",
   "metadata": {},
   "source": [
    "## CAPTION + TABLE NUMBER!!!"
   ]
  },
  {
   "cell_type": "markdown",
   "metadata": {},
   "source": [
    "We want to predict healthy life expectancy (`Healthy.life.expectancy`) given a particular value of GDP per capita (`GDP.per.capita`). To assess the relationship between these two variables, we will plot a scatter plot. Putting `Healthy.life.expectancy` on the y-axis and `GDP.per.capita` on the x-axis."
   ]
  },
  {
   "cell_type": "code",
   "execution_count": 5,
   "metadata": {},
   "outputs": [
    {
     "data": {
      "image/png": "[encoded data removed]",
      "text/plain": [
       "plot without title"
      ]
     },
     "metadata": {
      "image/png": {
       "height": 540,
       "width": 600
      }
     },
     "output_type": "display_data"
    }
   ],
   "source": [
    "options(repr.plot.width = 10, repr.plot.height = 9)\n",
    "\n",
    "gdp_hle_plot <- clean_happiness %>%\n",
    "    ggplot(aes(x = GDP.per.capita, y = Healthy.life.expectancy)) +\n",
    "    geom_point() +\n",
    "    labs(x = \"GDP per capita\", \n",
    "         y = \" Healthy life expectancy\",\n",
    "         title = \"Figure 1: Healthy Life Expectancy vs GDP per Capita\") +\n",
    "    theme(text = element_text(size = 18))\n",
    "\n",
    "gdp_hle_plot"
   ]
  },
  {
   "cell_type": "markdown",
   "metadata": {},
   "source": [
    "Caption: Scatter plot displaying the relationship between the two variables - GDP per capita and healthy life expectancy from the complete data set (`clean_happiness`). There is a positive linear relationship between the two variables and it is of moderate strength. As GDP per capita increases, the healthy life expectancy increases as well. The black circles plotted on the graph represent the data points corresponding to the relevant GDP per capita and healthy life expectancy values."
   ]
  },
  {
   "cell_type": "markdown",
   "metadata": {},
   "source": [
    "We will perform $k$-nn regression using the `tidymodels` package. To do so, we first need to create the training and testing datasets. \n",
    "\n",
    "We split the data using 75% of the `clean_happiness` data as our training set and setting `Healthy.life.expectancy` as the `strata` argument. Additionally, to make the training and testing sets reproducible, we will use `set.seed(26)`. By doing so, the random number generator will start at the same point each time when we run the code and we will always get back the same random sets."
   ]
  },
  {
   "cell_type": "code",
   "execution_count": 6,
   "metadata": {},
   "outputs": [],
   "source": [
    "set.seed(26)\n",
    "\n",
    "happiness_split <- initial_split(clean_happiness, prop = 0.75, strata = Healthy.life.expectancy)\n",
    "happiness_training <- training(happiness_split)\n",
    "happiness_testing <- testing(happiness_split)"
   ]
  },
  {
   "cell_type": "markdown",
   "metadata": {},
   "source": [
    "Next, we will use cross-validation on our training data (`happiness_training`) to choose $k$. In $k$-nn regression, we will use RMSPE to see how well our predictions matched the true labels.\n",
    "\n",
    "To perform a cross-validation and choose the optimal $k$ we first create a model specification for $k$-nn. We use the $k$-nearest neighbors algorithm, using the `\"kknn\"` package for the model engine and specifying that we want to use the straight-line distance. Since this is a regression problem, we will use `set_mode(\"regression\")` in the model specification.\n",
    "\n",
    "Finally, we create a recipe to preprocess our data. The recipe specifies that the response variable is healthy life expectancy (`Healthy.life.expectancy`) and the predictor variable is GDP per capita (`GDP.per.capita`)."
   ]
  },
  {
   "cell_type": "code",
   "execution_count": 7,
   "metadata": {},
   "outputs": [
    {
     "data": {
      "text/plain": [
       "Data Recipe\n",
       "\n",
       "Inputs:\n",
       "\n",
       "      role #variables\n",
       "   outcome          1\n",
       " predictor          1\n",
       "\n",
       "Operations:\n",
       "\n",
       "Scaling for all_predictors()\n",
       "Centering for all_predictors()"
      ]
     },
     "metadata": {},
     "output_type": "display_data"
    }
   ],
   "source": [
    "happiness_spec <- nearest_neighbor(weight_func = \"rectangular\", neighbors = tune()) %>% \n",
    "      set_engine(\"kknn\") %>%\n",
    "      set_mode(\"regression\")\n",
    "\n",
    "happiness_recipe <- recipe(Healthy.life.expectancy ~ GDP.per.capita, data = happiness_training) %>%\n",
    "      step_scale(all_predictors()) %>%\n",
    "      step_center(all_predictors())\n",
    "\n",
    "happiness_recipe"
   ]
  },
  {
   "cell_type": "markdown",
   "metadata": {},
   "source": [
    "Now, we perform a cross-validation with 5 folds using the `vfold_cv` function. We set the strata argument to be `Healthy.life.expectancy`.\n",
    "\n",
    "Then, we use the `workflow` function to combine our model specification and recipe."
   ]
  },
  {
   "cell_type": "code",
   "execution_count": 8,
   "metadata": {},
   "outputs": [
    {
     "data": {
      "text/plain": [
       "══ Workflow ════════════════════════════════════════════════════════════════════\n",
       "\u001b[3mPreprocessor:\u001b[23m Recipe\n",
       "\u001b[3mModel:\u001b[23m nearest_neighbor()\n",
       "\n",
       "── Preprocessor ────────────────────────────────────────────────────────────────\n",
       "2 Recipe Steps\n",
       "\n",
       "● step_scale()\n",
       "● step_center()\n",
       "\n",
       "── Model ───────────────────────────────────────────────────────────────────────\n",
       "K-Nearest Neighbor Model Specification (regression)\n",
       "\n",
       "Main Arguments:\n",
       "  neighbors = tune()\n",
       "  weight_func = rectangular\n",
       "\n",
       "Computational engine: kknn \n"
      ]
     },
     "metadata": {},
     "output_type": "display_data"
    }
   ],
   "source": [
    "happiness_vfold <- vfold_cv(happiness_training, v = 5, strata = Healthy.life.expectancy)\n",
    "\n",
    "happiness_workflow <- workflow() %>%\n",
    "    add_recipe(happiness_recipe) %>%\n",
    "    add_model(happiness_spec)\n",
    "\n",
    "happiness_workflow"
   ]
  },
  {
   "cell_type": "markdown",
   "metadata": {},
   "source": [
    "Now, we will use the RMSPE to find the best setting for $k$ from our workflow by testing 75 values of $k$.\n",
    "\n",
    "First, we create a tibble with a column called neighbors that contains a sequence of values, 1 to 75. We assign it to an object called `gridvals`.\n",
    "\n",
    "Then, we tune our workflow such that it tests all the values in `gridvals` and resamples using our cross-validation data set. Finally, we collect the statistics from our model."
   ]
  },
  {
   "cell_type": "code",
   "execution_count": 9,
   "metadata": {},
   "outputs": [
    {
     "data": {
      "text/html": [
       "<table>\n",
       "<caption>A tibble: 150 × 7</caption>\n",
       "<thead>\n",
       "\t<tr><th scope=col>neighbors</th><th scope=col>.metric</th><th scope=col>.estimator</th><th scope=col>mean</th><th scope=col>n</th><th scope=col>std_err</th><th scope=col>.config</th></tr>\n",
       "\t<tr><th scope=col>&lt;int&gt;</th><th scope=col>&lt;chr&gt;</th><th scope=col>&lt;chr&gt;</th><th scope=col>&lt;dbl&gt;</th><th scope=col>&lt;int&gt;</th><th scope=col>&lt;dbl&gt;</th><th scope=col>&lt;chr&gt;</th></tr>\n",
       "</thead>\n",
       "<tbody>\n",
       "\t<tr><td>1</td><td>rmse</td><td>standard</td><td>0.1659504</td><td>5</td><td>0.01351180</td><td>Model01</td></tr>\n",
       "\t<tr><td>1</td><td>rsq </td><td>standard</td><td>0.5920400</td><td>5</td><td>0.07600681</td><td>Model01</td></tr>\n",
       "\t<tr><td>2</td><td>rmse</td><td>standard</td><td>0.1394255</td><td>5</td><td>0.01329515</td><td>Model02</td></tr>\n",
       "\t<tr><td>⋮</td><td>⋮</td><td>⋮</td><td>⋮</td><td>⋮</td><td>⋮</td><td>⋮</td></tr>\n",
       "\t<tr><td>74</td><td>rsq </td><td>standard</td><td>0.6559873</td><td>5</td><td>0.029454955</td><td>Model74</td></tr>\n",
       "\t<tr><td>75</td><td>rmse</td><td>standard</td><td>0.1879543</td><td>5</td><td>0.009528211</td><td>Model75</td></tr>\n",
       "\t<tr><td>75</td><td>rsq </td><td>standard</td><td>0.6575640</td><td>5</td><td>0.028663352</td><td>Model75</td></tr>\n",
       "</tbody>\n",
       "</table>\n"
      ],
      "text/latex": [
       "A tibble: 150 × 7\n",
       "\\begin{tabular}{lllllll}\n",
       " neighbors & .metric & .estimator & mean & n & std\\_err & .config\\\\\n",
       " <int> & <chr> & <chr> & <dbl> & <int> & <dbl> & <chr>\\\\\n",
       "\\hline\n",
       "\t 1 & rmse & standard & 0.1659504 & 5 & 0.01351180 & Model01\\\\\n",
       "\t 1 & rsq  & standard & 0.5920400 & 5 & 0.07600681 & Model01\\\\\n",
       "\t 2 & rmse & standard & 0.1394255 & 5 & 0.01329515 & Model02\\\\\n",
       "\t ⋮ & ⋮ & ⋮ & ⋮ & ⋮ & ⋮ & ⋮\\\\\n",
       "\t 74 & rsq  & standard & 0.6559873 & 5 & 0.029454955 & Model74\\\\\n",
       "\t 75 & rmse & standard & 0.1879543 & 5 & 0.009528211 & Model75\\\\\n",
       "\t 75 & rsq  & standard & 0.6575640 & 5 & 0.028663352 & Model75\\\\\n",
       "\\end{tabular}\n"
      ],
      "text/markdown": [
       "\n",
       "A tibble: 150 × 7\n",
       "\n",
       "| neighbors &lt;int&gt; | .metric &lt;chr&gt; | .estimator &lt;chr&gt; | mean &lt;dbl&gt; | n &lt;int&gt; | std_err &lt;dbl&gt; | .config &lt;chr&gt; |\n",
       "|---|---|---|---|---|---|---|\n",
       "| 1 | rmse | standard | 0.1659504 | 5 | 0.01351180 | Model01 |\n",
       "| 1 | rsq  | standard | 0.5920400 | 5 | 0.07600681 | Model01 |\n",
       "| 2 | rmse | standard | 0.1394255 | 5 | 0.01329515 | Model02 |\n",
       "| ⋮ | ⋮ | ⋮ | ⋮ | ⋮ | ⋮ | ⋮ |\n",
       "| 74 | rsq  | standard | 0.6559873 | 5 | 0.029454955 | Model74 |\n",
       "| 75 | rmse | standard | 0.1879543 | 5 | 0.009528211 | Model75 |\n",
       "| 75 | rsq  | standard | 0.6575640 | 5 | 0.028663352 | Model75 |\n",
       "\n"
      ],
      "text/plain": [
       "    neighbors .metric .estimator mean      n std_err     .config\n",
       "1   1         rmse    standard   0.1659504 5 0.01351180  Model01\n",
       "2   1         rsq     standard   0.5920400 5 0.07600681  Model01\n",
       "3   2         rmse    standard   0.1394255 5 0.01329515  Model02\n",
       "⋮   ⋮         ⋮       ⋮          ⋮         ⋮ ⋮           ⋮      \n",
       "148 74        rsq     standard   0.6559873 5 0.029454955 Model74\n",
       "149 75        rmse    standard   0.1879543 5 0.009528211 Model75\n",
       "150 75        rsq     standard   0.6575640 5 0.028663352 Model75"
      ]
     },
     "metadata": {},
     "output_type": "display_data"
    }
   ],
   "source": [
    "gridvals <- tibble(neighbors = seq(from = 1, to = 75))\n",
    "\n",
    "happiness_results <- happiness_workflow %>%\n",
    "                   tune_grid(resamples = happiness_vfold, grid = gridvals) %>%\n",
    "                   collect_metrics()\n",
    "\n",
    "happiness_results"
   ]
  },
  {
   "cell_type": "markdown",
   "metadata": {},
   "source": [
    "## CAPTION + TABLE # !!"
   ]
  },
  {
   "cell_type": "markdown",
   "metadata": {},
   "source": [
    "Next, we find the minimum RMSPE along with its associated metrics such as the mean and standard error, to help us find the number of neighbors that will serve as our best $k$ value."
   ]
  },
  {
   "cell_type": "code",
   "execution_count": 10,
   "metadata": {},
   "outputs": [
    {
     "data": {
      "text/html": [
       "<table>\n",
       "<caption>A tibble: 1 × 7</caption>\n",
       "<thead>\n",
       "\t<tr><th scope=col>neighbors</th><th scope=col>.metric</th><th scope=col>.estimator</th><th scope=col>mean</th><th scope=col>n</th><th scope=col>std_err</th><th scope=col>.config</th></tr>\n",
       "\t<tr><th scope=col>&lt;int&gt;</th><th scope=col>&lt;chr&gt;</th><th scope=col>&lt;chr&gt;</th><th scope=col>&lt;dbl&gt;</th><th scope=col>&lt;int&gt;</th><th scope=col>&lt;dbl&gt;</th><th scope=col>&lt;chr&gt;</th></tr>\n",
       "</thead>\n",
       "<tbody>\n",
       "\t<tr><td>14</td><td>rmse</td><td>standard</td><td>0.1213263</td><td>5</td><td>0.006653407</td><td>Model14</td></tr>\n",
       "</tbody>\n",
       "</table>\n"
      ],
      "text/latex": [
       "A tibble: 1 × 7\n",
       "\\begin{tabular}{lllllll}\n",
       " neighbors & .metric & .estimator & mean & n & std\\_err & .config\\\\\n",
       " <int> & <chr> & <chr> & <dbl> & <int> & <dbl> & <chr>\\\\\n",
       "\\hline\n",
       "\t 14 & rmse & standard & 0.1213263 & 5 & 0.006653407 & Model14\\\\\n",
       "\\end{tabular}\n"
      ],
      "text/markdown": [
       "\n",
       "A tibble: 1 × 7\n",
       "\n",
       "| neighbors &lt;int&gt; | .metric &lt;chr&gt; | .estimator &lt;chr&gt; | mean &lt;dbl&gt; | n &lt;int&gt; | std_err &lt;dbl&gt; | .config &lt;chr&gt; |\n",
       "|---|---|---|---|---|---|---|\n",
       "| 14 | rmse | standard | 0.1213263 | 5 | 0.006653407 | Model14 |\n",
       "\n"
      ],
      "text/plain": [
       "  neighbors .metric .estimator mean      n std_err     .config\n",
       "1 14        rmse    standard   0.1213263 5 0.006653407 Model14"
      ]
     },
     "metadata": {},
     "output_type": "display_data"
    }
   ],
   "source": [
    "happiness_min <- happiness_results %>%\n",
    "   filter(.metric == \"rmse\") %>%\n",
    "   arrange(mean, std_err) %>% \n",
    "   head(1)\n",
    "\n",
    "happiness_min"
   ]
  },
  {
   "cell_type": "markdown",
   "metadata": {},
   "source": [
    "## CAPTION + TABLE # !!"
   ]
  },
  {
   "cell_type": "markdown",
   "metadata": {},
   "source": [
    "To assess how well our model might do at predicting on unseen data, we assess its RMSPE on the test data. To do so, we first re-train our $k$-nn regression model on the entire training data set, using the $K$ value we obtained previously in `happiness_min`.\n",
    "\n",
    "We pull the best `neighbors` value from `happiness_min` and store it in an object called `k_min`. \n",
    "\n",
    "Following that, we repeat the workflow analysis again but with a brand new model specification with `k_min`. We will reuse `happiness_recipe` for this workflow, as we do not need to change it for this task.\n",
    "\n",
    "Next, we use the `predict` function to make predictions on the test data, and use the `metrics` function again to compute a summary of the regression's quality."
   ]
  },
  {
   "cell_type": "code",
   "execution_count": 11,
   "metadata": {},
   "outputs": [
    {
     "data": {
      "text/html": [
       "<table>\n",
       "<caption>A tibble: 3 × 3</caption>\n",
       "<thead>\n",
       "\t<tr><th scope=col>.metric</th><th scope=col>.estimator</th><th scope=col>.estimate</th></tr>\n",
       "\t<tr><th scope=col>&lt;chr&gt;</th><th scope=col>&lt;chr&gt;</th><th scope=col>&lt;dbl&gt;</th></tr>\n",
       "</thead>\n",
       "<tbody>\n",
       "\t<tr><td>rmse</td><td>standard</td><td>0.1769596</td></tr>\n",
       "\t<tr><td>rsq </td><td>standard</td><td>0.5574371</td></tr>\n",
       "\t<tr><td>mae </td><td>standard</td><td>0.1217568</td></tr>\n",
       "</tbody>\n",
       "</table>\n"
      ],
      "text/latex": [
       "A tibble: 3 × 3\n",
       "\\begin{tabular}{lll}\n",
       " .metric & .estimator & .estimate\\\\\n",
       " <chr> & <chr> & <dbl>\\\\\n",
       "\\hline\n",
       "\t rmse & standard & 0.1769596\\\\\n",
       "\t rsq  & standard & 0.5574371\\\\\n",
       "\t mae  & standard & 0.1217568\\\\\n",
       "\\end{tabular}\n"
      ],
      "text/markdown": [
       "\n",
       "A tibble: 3 × 3\n",
       "\n",
       "| .metric &lt;chr&gt; | .estimator &lt;chr&gt; | .estimate &lt;dbl&gt; |\n",
       "|---|---|---|\n",
       "| rmse | standard | 0.1769596 |\n",
       "| rsq  | standard | 0.5574371 |\n",
       "| mae  | standard | 0.1217568 |\n",
       "\n"
      ],
      "text/plain": [
       "  .metric .estimator .estimate\n",
       "1 rmse    standard   0.1769596\n",
       "2 rsq     standard   0.5574371\n",
       "3 mae     standard   0.1217568"
      ]
     },
     "metadata": {},
     "output_type": "display_data"
    }
   ],
   "source": [
    "k_min <- happiness_min %>%\n",
    "         pull(neighbors) %>%\n",
    "         as.integer()\n",
    "\n",
    "happiness_best_spec <- nearest_neighbor(weight_func = \"rectangular\", neighbors = k_min) %>%\n",
    "         set_engine(\"kknn\") %>%\n",
    "         set_mode(\"regression\")\n",
    "\n",
    "happiness_best_fit <- workflow() %>%\n",
    "         add_recipe(happiness_recipe) %>%\n",
    "         add_model(happiness_best_spec) %>%\n",
    "         fit(data = happiness_training)\n",
    "\n",
    "happiness_summary <- happiness_best_fit %>%\n",
    "          predict(happiness_testing) %>%\n",
    "          bind_cols(happiness_testing) %>%\n",
    "          metrics(truth = Healthy.life.expectancy, estimate = .pred)\n",
    "\n",
    "happiness_summary"
   ]
  },
  {
   "cell_type": "markdown",
   "metadata": {},
   "source": [
    "## CAPTION + TABLE # !!"
   ]
  },
  {
   "cell_type": "markdown",
   "metadata": {},
   "source": [
    "Finally, we visualize what the relationship between `GDP.per.capita` and `Healthy.life.expectancy` looks like with our best $k$ value to explore how the $k$ value affects $k$-nn regression.\n",
    "\n",
    "We use the `predict` function on the workflow analysis that utilizes the best $k$ value (`happiness_best_fit`) to create predictions for the `happiness_training` data. Then, we add the column of predictions to the `happiness_training` data frame.\n",
    "\n",
    "Next, we create a scatterplot with the GDP per capita against the healthy life expectancy from `hle_preds`."
   ]
  },
  {
   "cell_type": "code",
   "execution_count": 12,
   "metadata": {},
   "outputs": [
    {
     "data": {
      "image/png": "[encoded data removed]",
      "text/plain": [
       "plot without title"
      ]
     },
     "metadata": {
      "image/png": {
       "height": 540,
       "width": 600
      }
     },
     "output_type": "display_data"
    }
   ],
   "source": [
    "options(repr.plot.width = 10, repr.plot.height = 9)\n",
    "\n",
    "hle_preds <- predict(happiness_best_fit, happiness_training) %>%\n",
    "    bind_cols(happiness_training)\n",
    "\n",
    "happiness_plot <- happiness_training %>%\n",
    "    ggplot(aes(x = GDP.per.capita, y = Healthy.life.expectancy)) +\n",
    "    geom_point() +\n",
    "    geom_line(data = hle_preds, \n",
    "              mapping = aes(x = GDP.per.capita, y = .pred),\n",
    "              color = \"blue\") +\n",
    "    labs(x = \"GDP per Capita\", y = \"Healthy Life Expectancy\", \n",
    "         title = \"Figure 2: Healthy Life Expectancy vs GDP per Capita\") +\n",
    "    theme(text = element_text(size = 20))\n",
    "\n",
    "happiness_plot"
   ]
  },
  {
   "cell_type": "markdown",
   "metadata": {},
   "source": [
    "Caption: Scatter plot displaying the relationship between the variables GDP per capita and healthy life expectancy from the training data set (`happiness_training`). There is a positive linear relationship between the two variables and it is of moderate strength. As GDP per capita increases, the healthy life expectancy increases as well. The black circles plotted on the graph represent the data points corresponding to the relevant GDP per capita and healthy life expectancy values from the data. The blue line plotted over the data points displays the predictions from the $k$-nn regression model which uses the best $k$ value (`happiness_best_fit`)."
   ]
  },
  {
   "cell_type": "markdown",
   "metadata": {},
   "source": [
    "### Discussion"
   ]
  },
  {
   "cell_type": "markdown",
   "metadata": {},
   "source": []
  },
  {
   "cell_type": "markdown",
   "metadata": {},
   "source": [
    "### References"
   ]
  },
  {
   "cell_type": "markdown",
   "metadata": {},
   "source": []
  }
 ],
 "metadata": {
  "kernelspec": {
   "display_name": "R",
   "language": "R",
   "name": "ir"
  },
  "language_info": {
   "codemirror_mode": "r",
   "file_extension": ".r",
   "mimetype": "text/x-r-source",
   "name": "R",
   "pygments_lexer": "r",
   "version": "4.0.0"
  }
 },
 "nbformat": 4,
 "nbformat_minor": 4
}
